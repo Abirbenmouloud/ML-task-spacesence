{
  "nbformat": 4,
  "nbformat_minor": 0,
  "metadata": {
    "colab": {
      "provenance": []
    },
    "kernelspec": {
      "name": "python3",
      "display_name": "Python 3"
    },
    "language_info": {
      "name": "python"
    }
  },
  "cells": [
    {
      "cell_type": "markdown",
      "source": [
        "#**Image Classification Task for ML Internship 2023**\n",
        "\n",
        "## EuroSAT Land Use and Land Cover Classification using Deep Learning\n",
        "\n",
        "In this notebook, I have trained a machine learning model on the EuroSAT land cover classification dataset, which contains 64x64 RGB images from Sentinel-2. The task is to classify these images into ten different land use classes. The dataset is available on GitHub and contains a total of 27,000 images.\n",
        "\n",
        "For this project, I have used the Tensorflow framework to build and train a Convolutional Neural Network (CNN) model. The model is trained on the training set of the dataset, and then evaluated on the validation set to measure its accuracy.\n",
        "\n",
        "In addition to the training notebook, I have also created an inference notebook that can be used to classify new images using the trained model. The inference notebook takes 20 sample images from the dataset, performs inference on them, generates classification results, and saves them to disk.\n",
        "\n",
        "In the README file of my GitHub repository, I have also provided information on the constraints of the current solution and potential improvements that can be made to enhance the model's performance. These include ideas for improving the data preprocessing, hyperparameter tuning, and exploring different model architectures."
      ],
      "metadata": {
        "id": "qvQKCQ-qlS26"
      }
    },
    {
      "cell_type": "code",
      "execution_count": 2,
      "metadata": {
        "id": "2QRziNpZH9b9"
      },
      "outputs": [],
      "source": [
        "import os\n",
        "import urllib.request\n",
        "import zipfile\n",
        "\n",
        "# Download the dataset\n",
        "url = 'http://madm.dfki.de/files/sentinel/EuroSAT.zip'\n",
        "filename = 'EuroSAT.zip'\n",
        "if not os.path.exists(filename):\n",
        "    urllib.request.urlretrieve(url, filename)\n",
        "\n",
        "# Unzip the dataset\n",
        "with zipfile.ZipFile(filename, 'r') as zip_ref:\n",
        "    zip_ref.extractall()"
      ]
    },
    {
      "cell_type": "code",
      "source": [
        "import os\n",
        "import cv2\n",
        "import numpy as np\n",
        "from sklearn.utils import shuffle\n",
        "\n",
        "def load_data(path, image_size, num_classes):\n",
        "    images = []\n",
        "    labels = []\n",
        "    class_names = sorted(os.listdir(path))\n",
        "\n",
        "    for class_name in class_names:\n",
        "        class_path = os.path.join(path, class_name)\n",
        "        for image_file in os.listdir(class_path):\n",
        "            image_path = os.path.join(class_path, image_file)\n",
        "            image = cv2.imread(image_path)\n",
        "            image = cv2.resize(image, image_size)\n",
        "            images.append(image)\n",
        "            labels.append(class_names.index(class_name))\n",
        "\n",
        "    images = np.array(images)\n",
        "    labels = np.array(labels)\n",
        "    images, labels = shuffle(images, labels, random_state=42)\n",
        "\n",
        "    # Convert labels to one-hot encoding\n",
        "    labels = np.eye(num_classes)[labels]\n",
        "\n",
        "    return images, labels\n",
        "\n",
        "def data_generator(images, labels, batch_size):\n",
        "    num_samples = len(images)\n",
        "    while True:\n",
        "        for offset in range(0, num_samples, batch_size):\n",
        "            batch_images = images[offset:offset+batch_size]\n",
        "            batch_labels = labels[offset:offset+batch_size]\n",
        "            yield batch_images, batch_labels\n",
        "\n",
        "image_size = (64, 64)\n",
        "num_classes = 10\n",
        "batch_size = 32\n",
        "\n",
        "# Load data\n",
        "images, labels = load_data('2750', image_size, num_classes)"
      ],
      "metadata": {
        "id": "CRm8A5RPILmI"
      },
      "execution_count": 15,
      "outputs": []
    },
    {
      "cell_type": "code",
      "source": [
        "#Building the Model : The next step is to build the model. \n",
        "#We will be using a Convolutional Neural Network (CNN) for this task. Here is the code for building the model.\n",
        "\n",
        "from tensorflow.keras.models import Sequential\n",
        "from tensorflow.keras.layers import Dense, Activation, Conv2D, MaxPooling2D, Flatten\n",
        "\n",
        "model = Sequential()\n",
        "\n",
        "model.add(Conv2D(32, (3, 3), activation='relu', input_shape=(64, 64, 3)))\n",
        "model.add(MaxPooling2D((2, 2)))\n",
        "model.add(Conv2D(64, (3, 3), activation='relu'))\n",
        "model.add(MaxPooling2D((2, 2)))\n",
        "model.add(Conv2D(128, (3, 3), activation='relu'))\n",
        "model.add(MaxPooling2D((2, 2)))\n",
        "model.add(Flatten())\n",
        "model.add(Dense(128, activation='relu'))\n",
        "model.add(Dense(10, activation='softmax'))\n",
        "\n",
        "model.compile(optimizer='adam',\n",
        "              loss='categorical_crossentropy',\n",
        "              metrics=['accuracy'])\n",
        "model.summary() "
      ],
      "metadata": {
        "colab": {
          "base_uri": "https://localhost:8080/"
        },
        "id": "xxhQnW0_Ii_P",
        "outputId": "73b1b66c-af89-4bb9-8353-19e037a4dd26"
      },
      "execution_count": 16,
      "outputs": [
        {
          "output_type": "stream",
          "name": "stdout",
          "text": [
            "Model: \"sequential_5\"\n",
            "_________________________________________________________________\n",
            " Layer (type)                Output Shape              Param #   \n",
            "=================================================================\n",
            " conv2d_6 (Conv2D)           (None, 62, 62, 32)        896       \n",
            "                                                                 \n",
            " max_pooling2d_6 (MaxPooling  (None, 31, 31, 32)       0         \n",
            " 2D)                                                             \n",
            "                                                                 \n",
            " conv2d_7 (Conv2D)           (None, 29, 29, 64)        18496     \n",
            "                                                                 \n",
            " max_pooling2d_7 (MaxPooling  (None, 14, 14, 64)       0         \n",
            " 2D)                                                             \n",
            "                                                                 \n",
            " conv2d_8 (Conv2D)           (None, 12, 12, 128)       73856     \n",
            "                                                                 \n",
            " max_pooling2d_8 (MaxPooling  (None, 6, 6, 128)        0         \n",
            " 2D)                                                             \n",
            "                                                                 \n",
            " flatten_2 (Flatten)         (None, 4608)              0         \n",
            "                                                                 \n",
            " dense_4 (Dense)             (None, 128)               589952    \n",
            "                                                                 \n",
            " dense_5 (Dense)             (None, 10)                1290      \n",
            "                                                                 \n",
            "=================================================================\n",
            "Total params: 684,490\n",
            "Trainable params: 684,490\n",
            "Non-trainable params: 0\n",
            "_________________________________________________________________\n"
          ]
        }
      ]
    },
    {
      "cell_type": "markdown",
      "source": [
        "This code creates an image classification model for the EuroSAT dataset. First, the dataset is divided into training and validation sets using the train_test_split function. Then, the model is trained using the Keras fit method, using the training and validation sets generated from the image and label data. The evaluation metrics, namely accuracy and loss, are plotted for the training and validation sets at each epoch.\n",
        "\n",
        "The variable epochs defines the number of training epochs, and steps_per_epoch and validation_steps are calculated by dividing the total number of training and validation images by the batch size. The trained model is finally saved as an h5 file using the Keras save method."
      ],
      "metadata": {
        "id": "aTJ2cQ4rBMpZ"
      }
    },
    {
      "cell_type": "code",
      "source": [
        "#Split the dataset into training and validation sets\n",
        "from sklearn.model_selection import train_test_split\n",
        "train_images, val_images, train_labels, val_labels = train_test_split(images, labels, test_size=0.2, random_state=42)\n",
        "\n",
        "#Train the model\n",
        "epochs = 10\n",
        "steps_per_epoch = len(train_images) // batch_size\n",
        "validation_steps = len(val_images) // batch_size\n",
        "history = model.fit(data_generator(train_images, train_labels, batch_size),\n",
        "epochs=epochs, steps_per_epoch=steps_per_epoch,\n",
        "validation_data=data_generator(val_images, val_labels, batch_size),\n",
        "validation_steps=validation_steps)\n",
        "#Evaluate the model\n",
        "#loss, accuracy = model.evaluate(data_generator(val_images, val_labels, batch_size))\n",
        "#print(\"Validation accuracy: {:.2f}%\".format(accuracy*100))\n",
        "\n",
        "#Save the model\n",
        "model.save(\"eurosat_model.h5\")\n",
        "\n",
        "#Evaluation metrics\n",
        "import matplotlib.pyplot as plt\n",
        "plt.plot(history.history['accuracy'])\n",
        "plt.plot(history.history['val_accuracy'])\n",
        "plt.title('Model Accuracy')\n",
        "plt.ylabel('Accuracy')\n",
        "plt.xlabel('Epoch')\n",
        "plt.legend(['Train', 'Validation'], loc='upper left')\n",
        "plt.show()\n",
        "\n",
        "plt.plot(history.history['loss'])\n",
        "plt.plot(history.history['val_loss'])\n",
        "plt.title('Model Loss')\n",
        "plt.ylabel('Loss')\n",
        "plt.xlabel('Epoch')\n",
        "plt.legend(['Train', 'Validation'], loc='upper left')\n"
      ],
      "metadata": {
        "colab": {
          "base_uri": "https://localhost:8080/",
          "height": 920
        },
        "id": "OsmRuV87VzPa",
        "outputId": "cee3345d-4361-4824-97a1-5633df12fb39"
      },
      "execution_count": 18,
      "outputs": [
        {
          "output_type": "stream",
          "name": "stdout",
          "text": [
            "Epoch 1/10\n",
            "675/675 [==============================] - 166s 246ms/step - loss: 1.5458 - accuracy: 0.5169 - val_loss: 0.8903 - val_accuracy: 0.6961\n",
            "Epoch 2/10\n",
            "675/675 [==============================] - 165s 245ms/step - loss: 0.8950 - accuracy: 0.6788 - val_loss: 0.7906 - val_accuracy: 0.7068\n",
            "Epoch 3/10\n",
            "675/675 [==============================] - 161s 239ms/step - loss: 0.7200 - accuracy: 0.7435 - val_loss: 0.7329 - val_accuracy: 0.7353\n",
            "Epoch 4/10\n",
            "675/675 [==============================] - 169s 250ms/step - loss: 0.6139 - accuracy: 0.7813 - val_loss: 0.6681 - val_accuracy: 0.7643\n",
            "Epoch 5/10\n",
            "675/675 [==============================] - 162s 240ms/step - loss: 0.5312 - accuracy: 0.8099 - val_loss: 0.6875 - val_accuracy: 0.7693\n",
            "Epoch 6/10\n",
            "675/675 [==============================] - 168s 249ms/step - loss: 0.4693 - accuracy: 0.8347 - val_loss: 0.6562 - val_accuracy: 0.7844\n",
            "Epoch 7/10\n",
            "675/675 [==============================] - 161s 239ms/step - loss: 0.4333 - accuracy: 0.8478 - val_loss: 0.6269 - val_accuracy: 0.8045\n",
            "Epoch 8/10\n",
            "675/675 [==============================] - 169s 250ms/step - loss: 0.3911 - accuracy: 0.8654 - val_loss: 0.7431 - val_accuracy: 0.7684\n",
            "Epoch 9/10\n",
            "675/675 [==============================] - 162s 239ms/step - loss: 0.3536 - accuracy: 0.8779 - val_loss: 0.7824 - val_accuracy: 0.7772\n",
            "Epoch 10/10\n",
            "675/675 [==============================] - 160s 237ms/step - loss: 0.3190 - accuracy: 0.8893 - val_loss: 0.7833 - val_accuracy: 0.7980\n"
          ]
        },
        {
          "output_type": "display_data",
          "data": {
            "text/plain": [
              "<Figure size 432x288 with 1 Axes>"
            ],
            "image/png": "[encoded data removed]"
          },
          "metadata": {
            "needs_background": "light"
          }
        },
        {
          "output_type": "display_data",
          "data": {
            "text/plain": [
              "<Figure size 432x288 with 1 Axes>"
            ],
            "image/png": "[encoded data removed]"
          },
          "metadata": {
            "needs_background": "light"
          }
        }
      ]
    },
    {
      "cell_type": "markdown",
      "source": [
        "###**2. Inference [Jupyter notebook]: Notebook to perform inference, generate and save classification results. Use 20 sample images from the dataset.**\n",
        "\n",
        "This code loads the saved model and the **20 sample** images from the EuroSAT dataset. It then performs inference on the images using the **predict()** method of the model, and saves the classification results in a dictionary with class names as keys and predicted class names as values. The results are saved in a **NumPy array** format using the **save()** method."
      ],
      "metadata": {
        "id": "VL1H725lqCXf"
      }
    },
    {
      "cell_type": "code",
      "source": [
        "import os\n",
        "import cv2\n",
        "import numpy as np\n",
        "from tensorflow.keras.models import load_model\n",
        "\n",
        "# Load the saved model\n",
        "model = load_model('eurosat_model.h5')\n",
        "\n",
        "# Load the 20 sample images\n",
        "image_size = (64, 64)\n",
        "images = []\n",
        "path = '2750'\n",
        "class_names = sorted(os.listdir(path))\n",
        "\n",
        "for class_name in class_names:\n",
        "    class_path = os.path.join(path, class_name)\n",
        "    for image_file in os.listdir(class_path)[:2]:   # Select the first 2 images from each class\n",
        "        image_path = os.path.join(class_path, image_file)\n",
        "        image = cv2.imread(image_path)\n",
        "        image = cv2.resize(image, image_size)\n",
        "        images.append(image)\n",
        "\n",
        "images = np.array(images)\n",
        "\n",
        "# Perform inference\n",
        "predicted_labels = model.predict(images)\n",
        "predicted_classes = np.argmax(predicted_labels, axis=1)\n",
        "\n",
        "# Save the classification results\n",
        "results = {}\n",
        "for i, class_name in enumerate(class_names):\n",
        "    results[class_name] = class_names[predicted_classes[i]]\n",
        "\n",
        "np.save('results.npy', results)"
      ],
      "metadata": {
        "colab": {
          "base_uri": "https://localhost:8080/"
        },
        "id": "FAiOB2wwpsnS",
        "outputId": "5cb10d77-0b2e-4fab-9b7a-b45db766b028"
      },
      "execution_count": 19,
      "outputs": [
        {
          "output_type": "stream",
          "name": "stdout",
          "text": [
            "1/1 [==============================] - 0s 195ms/step\n"
          ]
        }
      ]
    }
  ]
}